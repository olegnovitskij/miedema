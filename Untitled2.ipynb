{
 "cells": [
  {
   "cell_type": "code",
   "execution_count": 21,
   "id": "08084cc6-b39b-4134-b810-91dd464d3a8f",
   "metadata": {},
   "outputs": [],
   "source": [
    "from Enthalpy_calculation import H_miedema\n",
    "\n",
    "import numpy as np, pandas as pd\n",
    "\n",
    "from pyxtal.symmetry import Group\n",
    "from pyxtal.molecule import pyxtal_molecule\n",
    "from pymatgen.core import Molecule\n",
    "from pyxtal import pyxtal\n",
    "import ase\n",
    "from ase.spacegroup import crystal\n",
    "from ase.visualize import view\n",
    "from ase.neighborlist import get_distance_matrix\n",
    "from ase.geometry import get_distances\n",
    "\n",
    "from ase.geometry.analysis import Analysis\n",
    "from pyxtal.lattice import Lattice\n",
    "import ase.io as io\n",
    "from ase.build import cut\n",
    "from ase.spacegroup import crystal\n",
    "from pyxtal.viz import display_crystals\n",
    "# import pandas as pd\n",
    "from ase.spacegroup import Spacegroup\n",
    "from Enthalpy_calculation import H\n",
    "# from ovito.pipeline import StaticSource, Pipeline\n",
    "# from ovito.io.ase import ase_to_ovito\n",
    "# from ase.atoms import Atoms\n",
    "# from ovito.io import *\n",
    "# from ovito.data import *\n",
    "# from ovito.modifiers import *\n",
    "# from ovito.pipeline import *\n",
    "# import numpy as np\n",
    "# import ovito\n",
    "import pyTEMlib\n",
    "import pyTEMlib.crystal_tools "
   ]
  },
  {
   "cell_type": "code",
   "execution_count": 22,
   "id": "9fb1be76-973c-4f27-82ac-4a0e163f2cde",
   "metadata": {},
   "outputs": [],
   "source": [
    "params_2 = {'spacegroup': 139, 'basis': [(0.5, 0.5, 0.5), (0.277, 0.5, 0.0), (0.361, 0.0, 0.0), (0.25, 0.25, 0.25)], 'symbols': np.array(['Th', 'Mn', 'Mn', 'Mn'], dtype=object), 'cellpar': np.array([[ 8.7,  8.7,  5. , 90. , 90. , 90. ]]), 'occupancies': np.array([1., 1., 1., 1.])}"
   ]
  },
  {
   "cell_type": "code",
   "execution_count": 23,
   "id": "7919c0cd-de20-4fd2-8b0d-840c2577ba58",
   "metadata": {},
   "outputs": [],
   "source": [
    "crystal_parameters_df = pd.read_excel('crystal_parameters.xlsx',index_col=0, header=None)\n",
    "params = {'spacegroup': crystal_parameters_df.loc['spacegroup'].values[0],\n",
    "    'basis': [tuple(x) for x in crystal_parameters_df.loc[['x','y','z'],:].values.T],\n",
    "    'symbols': crystal_parameters_df.loc['symbols'].values,\n",
    "    'cellpar': crystal_parameters_df.loc[['a', 'b', 'c', 'alpha', 'beta', 'gamma']].loc[:, 1].values,\n",
    "    'occupancies': crystal_parameters_df.loc['occupancies'].values,\n",
    "    \n",
    "}\n",
    "\n",
    "type_of_compound = crystal_parameters_df.loc['type of compound'].values[0]"
   ]
  },
  {
   "cell_type": "code",
   "execution_count": 24,
   "id": "e7607a5e-659e-4a46-a1cc-8fb5cb4d9e50",
   "metadata": {},
   "outputs": [],
   "source": [
    "params_2 = {\n",
    "    'basis': [tuple(x) for x in crystal_parameters_df.loc[['x','y','z'],:].values.T],\n",
    "    'symbols': crystal_parameters_df.loc['symbols'].values,\n",
    "    'cellpar': crystal_parameters_df.loc[['a', 'b', 'c', 'alpha', 'beta', 'gamma']].loc[:, 1].values,\n",
    "    'occupancies': crystal_parameters_df.loc['occupancies'].values,\n",
    "    \n",
    "}\n"
   ]
  },
  {
   "cell_type": "code",
   "execution_count": 25,
   "id": "7cedd686-a242-4f7c-88b6-e8807230d5a4",
   "metadata": {},
   "outputs": [
    {
     "data": {
      "text/plain": [
       "{'basis': [(0.5, 0.5, 0.5),\n",
       "  (0.277, 0.5, 0),\n",
       "  (0.361, 0, 0),\n",
       "  (0.25, 0.25, 0.25)],\n",
       " 'symbols': array(['Th', 'Mn', 'Mn', 'Mn'], dtype=object),\n",
       " 'cellpar': array([8.7, 8.7, 5, 90, 90, 90], dtype=object),\n",
       " 'occupancies': array([1, 1, 1, 1], dtype=object)}"
      ]
     },
     "execution_count": 25,
     "metadata": {},
     "output_type": "execute_result"
    }
   ],
   "source": [
    "params_2"
   ]
  },
  {
   "cell_type": "code",
   "execution_count": 26,
   "id": "16736bbc-95fc-476f-a75b-e85a8c0d59c0",
   "metadata": {},
   "outputs": [
    {
     "ename": "TypeError",
     "evalue": "'float' object is not subscriptable",
     "output_type": "error",
     "traceback": [
      "\u001b[0;31m---------------------------------------------------------------------------\u001b[0m",
      "\u001b[0;31mTypeError\u001b[0m                                 Traceback (most recent call last)",
      "Input \u001b[0;32mIn [26]\u001b[0m, in \u001b[0;36m<cell line: 1>\u001b[0;34m()\u001b[0m\n\u001b[0;32m----> 1\u001b[0m \u001b[38;5;28mtype\u001b[39m(\u001b[43mparams_2\u001b[49m\u001b[43m[\u001b[49m\u001b[38;5;124;43m'\u001b[39;49m\u001b[38;5;124;43mcellpar\u001b[39;49m\u001b[38;5;124;43m'\u001b[39;49m\u001b[43m]\u001b[49m\u001b[43m[\u001b[49m\u001b[38;5;241;43m0\u001b[39;49m\u001b[43m]\u001b[49m\u001b[43m[\u001b[49m\u001b[38;5;241;43m0\u001b[39;49m\u001b[43m]\u001b[49m)\n",
      "\u001b[0;31mTypeError\u001b[0m: 'float' object is not subscriptable"
     ]
    }
   ],
   "source": [
    "type(params_2['cellpar'][0][0])"
   ]
  },
  {
   "cell_type": "code",
   "execution_count": null,
   "id": "68a5f1f9-42ea-484c-ac72-747c4164e10f",
   "metadata": {},
   "outputs": [],
   "source": [
    "crystal_ase_2 = crystal(**params_2, pbc=True, primitive_cell=False)"
   ]
  },
  {
   "cell_type": "code",
   "execution_count": null,
   "id": "d29ce9a4-eadf-4c8b-b950-d42eadeae57d",
   "metadata": {},
   "outputs": [],
   "source": [
    "crystal_ase"
   ]
  },
  {
   "cell_type": "code",
   "execution_count": null,
   "id": "58e1e8e9-43ee-406f-9963-343001b3f774",
   "metadata": {},
   "outputs": [],
   "source": [
    "ase.spacegroup.get_spacegroup(crystal_ase_2, symprec=1e-6)"
   ]
  },
  {
   "cell_type": "code",
   "execution_count": null,
   "id": "3f1573e2-a382-47c0-ba06-c554858e9a44",
   "metadata": {},
   "outputs": [],
   "source": []
  },
  {
   "cell_type": "code",
   "execution_count": 27,
   "id": "5f5b647f-1ae4-4b30-8581-1072fbc92bc5",
   "metadata": {},
   "outputs": [],
   "source": [
    "crystal_ase = crystal(**params, pbc=True, primitive_cell=False)\n",
    "\n",
    "crystal_pyxtal = pyxtal()\n",
    "\n",
    "crystal_pyxtal.from_seed(crystal_ase)\n",
    "\n",
    "# data = ase_to_ovito(crystal_ase)"
   ]
  },
  {
   "cell_type": "markdown",
   "id": "85c059a2-b2e8-46e4-86a5-75ff224d9fd7",
   "metadata": {},
   "source": [
    "* visualize crystal\n",
    "* get neighbour distances, site\n",
    "* calculate enthalpy"
   ]
  },
  {
   "cell_type": "code",
   "execution_count": null,
   "id": "69daa060-9351-4f4c-9c1d-2c250903699f",
   "metadata": {},
   "outputs": [],
   "source": [
    "view(crystal_ase_2, 'ngl')"
   ]
  },
  {
   "cell_type": "code",
   "execution_count": null,
   "id": "41baf24f-ff4e-4233-8caa-7496ad8267cf",
   "metadata": {},
   "outputs": [],
   "source": [
    "# ase.spacegroup.get_spacegroup(atoms, symprec=1e-2)"
   ]
  },
  {
   "cell_type": "code",
   "execution_count": null,
   "id": "8a50bd93-643e-444d-91e5-3331212ac69e",
   "metadata": {},
   "outputs": [],
   "source": [
    "просто при рестарте пересчитывать по словарю расстояний и оккупаций(добавить оккупации) энтальпия\n",
    "# добавить визуализацию кристалла матплотлиб + \n",
    "добавить все в гитхаб и добавить определение спейсгруппы"
   ]
  },
  {
   "cell_type": "code",
   "execution_count": null,
   "id": "8dd1f3f0",
   "metadata": {},
   "outputs": [],
   "source": [
    "from pyxtal.viz import (display_molecule,\n",
    "display_molecular_site, \n",
    "display_molecular,\n",
    "display_mol_crystals,\n",
    "display_crystals)"
   ]
  },
  {
   "cell_type": "code",
   "execution_count": null,
   "id": "f66c8bcc",
   "metadata": {},
   "outputs": [],
   "source": [
    "from ase.io import write\n",
    "%matplotlib inline\n",
    "import matplotlib.pyplot as plt\n",
    "import matplotlib.image as mpimg\n",
    "write('image.png', crystal_ase)\n",
    "img = mpimg.imread('image.png')\n",
    "imgplot = plt.imshow(img)\n",
    "plt.show()"
   ]
  },
  {
   "cell_type": "code",
   "execution_count": null,
   "id": "d54bbf80",
   "metadata": {},
   "outputs": [],
   "source": []
  },
  {
   "cell_type": "code",
   "execution_count": null,
   "id": "550b41af",
   "metadata": {},
   "outputs": [],
   "source": [
    "crystal_pyxtal.show()"
   ]
  },
  {
   "cell_type": "code",
   "execution_count": null,
   "id": "8486df94",
   "metadata": {},
   "outputs": [],
   "source": [
    "display_crystals(crystal_pyxtal)"
   ]
  },
  {
   "cell_type": "code",
   "execution_count": null,
   "id": "0287ff83",
   "metadata": {},
   "outputs": [],
   "source": []
  },
  {
   "cell_type": "code",
   "execution_count": null,
   "id": "75434c36-977e-4e3d-9237-44adf397c67d",
   "metadata": {},
   "outputs": [],
   "source": [
    "crystal_pyxtal.show()"
   ]
  },
  {
   "cell_type": "code",
   "execution_count": null,
   "id": "b7582200-8b39-4402-9b6d-b3cd4680bd27",
   "metadata": {},
   "outputs": [],
   "source": [
    "display_crystals(crystal_pyxtal)"
   ]
  },
  {
   "cell_type": "code",
   "execution_count": 28,
   "id": "6da62e5c-7deb-4785-becf-cc5362263a5e",
   "metadata": {},
   "outputs": [],
   "source": [
    "sites = []\n",
    "for el_name in crystal_pyxtal.get_site_labels():\n",
    "    for el_site in crystal_pyxtal.get_site_labels()[el_name]:\n",
    "        sites.append((el_name, el_site))"
   ]
  },
  {
   "cell_type": "code",
   "execution_count": null,
   "id": "17f7ccfc-3ad8-40f3-9326-880251e5bb3c",
   "metadata": {},
   "outputs": [],
   "source": [
    "crystal_pyxtal."
   ]
  },
  {
   "cell_type": "code",
   "execution_count": null,
   "id": "29ab4e1e-6682-4120-a3de-0bf7f9d484ef",
   "metadata": {},
   "outputs": [],
   "source": [
    "crystal_pyxtal.sites.split()"
   ]
  },
  {
   "cell_type": "code",
   "execution_count": null,
   "id": "fb739b41-f35d-48cb-bba2-538457579d89",
   "metadata": {},
   "outputs": [],
   "source": [
    "crystal_pyxtal.atom_sites[0].position"
   ]
  },
  {
   "cell_type": "code",
   "execution_count": null,
   "id": "826f8b9c-cca2-4833-a6ec-31d010ba438b",
   "metadata": {},
   "outputs": [],
   "source": [
    "crystal_pyxtal.atom_sites[0].__dir__()"
   ]
  },
  {
   "cell_type": "code",
   "execution_count": null,
   "id": "efece299-10ff-43eb-a03e-6850c33b2b0d",
   "metadata": {},
   "outputs": [],
   "source": [
    "crystal_pyxtal"
   ]
  },
  {
   "cell_type": "code",
   "execution_count": null,
   "id": "93c6ea9c-39fe-4482-8caa-5f9afe227e4b",
   "metadata": {},
   "outputs": [],
   "source": [
    "str(crystal_pyxtal.atom_sites[0]).split()"
   ]
  },
  {
   "cell_type": "code",
   "execution_count": null,
   "id": "2eaa03d5-0102-4b0f-9399-b91f35aaec38",
   "metadata": {},
   "outputs": [],
   "source": [
    "s = crystal_pyxtal.atom_sites[0]"
   ]
  },
  {
   "cell_type": "code",
   "execution_count": null,
   "id": "fa163e4c-10ff-471f-9b99-7247330a7874",
   "metadata": {},
   "outputs": [],
   "source": [
    "s.specie"
   ]
  },
  {
   "cell_type": "code",
   "execution_count": null,
   "id": "d65db5b3-7ce5-4c65-adbe-5634adaedf5b",
   "metadata": {},
   "outputs": [],
   "source": [
    "s.position"
   ]
  },
  {
   "cell_type": "code",
   "execution_count": null,
   "id": "ae01b3c0-e8f1-4a2f-9f3a-8cfa9c88c9cb",
   "metadata": {},
   "outputs": [],
   "source": [
    "s.multiplicity"
   ]
  },
  {
   "cell_type": "code",
   "execution_count": null,
   "id": "e007a6e3-4b66-4d36-8c5c-258f34b64c71",
   "metadata": {},
   "outputs": [],
   "source": [
    "s.wp.symbol\n",
    "\n"
   ]
  },
  {
   "cell_type": "code",
   "execution_count": null,
   "id": "3f9efccb-253f-4808-9016-655dacdb866a",
   "metadata": {},
   "outputs": [],
   "source": []
  },
  {
   "cell_type": "code",
   "execution_count": null,
   "id": "94f44ada-48c5-4d44-8fcf-4629d014dd93",
   "metadata": {},
   "outputs": [],
   "source": [
    "list(np.array(str(crystal_pyxtal.atom_sites[0]).split())[[0, 3, 4, 5, 7, 9]])"
   ]
  },
  {
   "cell_type": "code",
   "execution_count": null,
   "id": "0f3f7949-7127-45f0-9712-760e9205f118",
   "metadata": {},
   "outputs": [],
   "source": [
    "# добавить эту инфо на вторую стр и дать возможность добавлять в позиции атомы. добавляя или уменьшая dist df"
   ]
  },
  {
   "cell_type": "code",
   "execution_count": null,
   "id": "693c2848-c3ad-46ad-83df-e0c8bf1bbde6",
   "metadata": {},
   "outputs": [],
   "source": [
    "len"
   ]
  },
  {
   "cell_type": "code",
   "execution_count": null,
   "id": "3d02e007-ab6d-43fd-ba03-65fd0872a272",
   "metadata": {},
   "outputs": [],
   "source": [
    "output = []\n",
    "for s in crystal_pyxtal.atom_sites:\n",
    "    spl = str(s).split()\n",
    "    el = spl[0]\n",
    "    x = spl[3]\n",
    "    y = spl[4]\n",
    "    z = spl[5][:-2:]\n",
    "    wp = spl[7][1:-1:]\n",
    "    sym = spl[9][1:-1:]\n",
    "    output.append([el, x, y, z, wp, sym])"
   ]
  },
  {
   "cell_type": "code",
   "execution_count": null,
   "id": "72490769-217a-43f4-8dc8-853b21fd8564",
   "metadata": {},
   "outputs": [],
   "source": []
  },
  {
   "cell_type": "code",
   "execution_count": null,
   "id": "f493f650-9121-4ddd-8cb0-07fb4b142f3d",
   "metadata": {},
   "outputs": [],
   "source": [
    "output.occ"
   ]
  },
  {
   "cell_type": "code",
   "execution_count": 35,
   "id": "f6b59530-0fb9-4599-b0d4-9a9cd09500a3",
   "metadata": {},
   "outputs": [],
   "source": [
    "df = pd.DataFrame(sites, columns=['elem', 'wp'])"
   ]
  },
  {
   "cell_type": "code",
   "execution_count": null,
   "id": "802b6dd3-f0bc-4047-8c74-7ee8d6ea0a86",
   "metadata": {},
   "outputs": [],
   "source": []
  },
  {
   "cell_type": "code",
   "execution_count": 36,
   "id": "dbc98266-ef18-480e-b793-a8f790cb8087",
   "metadata": {},
   "outputs": [
    {
     "data": {
      "text/plain": [
       "array([0, 0, 1, 1, 1, 1, 1, 1, 1, 1, 2, 2, 2, 2, 2, 2, 2, 2, 3, 3, 3, 3,\n",
       "       3, 3, 3, 3])"
      ]
     },
     "execution_count": 36,
     "metadata": {},
     "output_type": "execute_result"
    }
   ],
   "source": [
    "crystal_ase.arrays['spacegroup_kinds']"
   ]
  },
  {
   "cell_type": "code",
   "execution_count": 37,
   "id": "ee1a3556-77c2-40e5-8c35-2ff1b8107502",
   "metadata": {},
   "outputs": [],
   "source": [
    "ordered_site = [sites[i] for i in crystal_ase.arrays['spacegroup_kinds']]"
   ]
  },
  {
   "cell_type": "code",
   "execution_count": 38,
   "id": "e845484b-a59d-41c3-bcfc-959adf74596b",
   "metadata": {},
   "outputs": [],
   "source": [
    "from ase.neighborlist import NeighborList, neighbor_list"
   ]
  },
  {
   "cell_type": "code",
   "execution_count": 39,
   "id": "733e0984-9992-44a2-b04f-9eb25818d467",
   "metadata": {},
   "outputs": [],
   "source": [
    "neigh_list = neighbor_list('ijd', crystal_ase, 3.61)"
   ]
  },
  {
   "cell_type": "code",
   "execution_count": 40,
   "id": "c47f37f0-100d-4d3e-b184-0dcaa5433351",
   "metadata": {},
   "outputs": [],
   "source": [
    "# вот сюда добавить site по индексам / что за номера у j? соответствуют wp??????"
   ]
  },
  {
   "cell_type": "code",
   "execution_count": 42,
   "id": "f108cad3-dc08-4efa-826e-b90e808353cf",
   "metadata": {},
   "outputs": [],
   "source": [
    "tmp = neigh_list"
   ]
  },
  {
   "cell_type": "code",
   "execution_count": 43,
   "id": "f2a40fa9-92f5-4436-8c63-08a3b2273042",
   "metadata": {},
   "outputs": [],
   "source": [
    "i = tmp[0]"
   ]
  },
  {
   "cell_type": "code",
   "execution_count": 44,
   "id": "0c96a5e7-4b6c-4658-84dd-aff6b2d7ff19",
   "metadata": {},
   "outputs": [],
   "source": [
    "j = tmp[1]"
   ]
  },
  {
   "cell_type": "code",
   "execution_count": 45,
   "id": "5f977282-f307-421a-ba8b-67972d550b7b",
   "metadata": {},
   "outputs": [],
   "source": [
    "d = tmp[2]"
   ]
  },
  {
   "cell_type": "code",
   "execution_count": 46,
   "id": "91d29ddf-14ac-4e2d-8a9e-2b6079cbd6cf",
   "metadata": {},
   "outputs": [],
   "source": [
    "i_decoded = [ordered_site[num] for num in i]"
   ]
  },
  {
   "cell_type": "code",
   "execution_count": 47,
   "id": "9bb3e4f4-5d97-4c51-8599-8a8c15d4e501",
   "metadata": {},
   "outputs": [],
   "source": [
    "j_decoded = [ordered_site[num] for num in j]"
   ]
  },
  {
   "cell_type": "code",
   "execution_count": 48,
   "id": "fa02cf17-c2d2-4fb3-aef4-074304c24251",
   "metadata": {},
   "outputs": [],
   "source": [
    "from collections import defaultdict"
   ]
  },
  {
   "cell_type": "code",
   "execution_count": 49,
   "id": "f39253d0-9d46-4641-aba7-391a6870158c",
   "metadata": {},
   "outputs": [
    {
     "data": {
      "text/plain": [
       "{(('Th', '2a'), ('Mn', '8f')): 2.5,\n",
       " (('Th', '2a'), ('Mn', '8j')): 2.5,\n",
       " (('Th', '2a'), ('Mn', '8i')): 2.5,\n",
       " (('Mn', '8j'), ('Th', '2a')): 2.5,\n",
       " (('Mn', '8j'), ('Mn', '8i')): 2.5,\n",
       " (('Mn', '8j'), ('Mn', '8f')): 2.5,\n",
       " (('Mn', '8j'), ('Mn', '8j')): 2.5,\n",
       " (('Mn', '8i'), ('Mn', '8i')): 2.5,\n",
       " (('Mn', '8i'), ('Mn', '8j')): 2.5,\n",
       " (('Mn', '8i'), ('Mn', '8f')): 2.5,\n",
       " (('Mn', '8i'), ('Th', '2a')): 2.5,\n",
       " (('Mn', '8f'), ('Mn', '8j')): 2.5,\n",
       " (('Mn', '8f'), ('Mn', '8i')): 2.5,\n",
       " (('Mn', '8f'), ('Mn', '8f')): 2.5,\n",
       " (('Mn', '8f'), ('Th', '2a')): 2.5}"
      ]
     },
     "execution_count": 49,
     "metadata": {},
     "output_type": "execute_result"
    }
   ],
   "source": [
    "{(i_, j_): d_ for (i_, j_) in zip(i_decoded, j_decoded) for d_ in d}"
   ]
  },
  {
   "cell_type": "code",
   "execution_count": null,
   "id": "ae53d920-fac2-4f06-82f5-0074af83c635",
   "metadata": {},
   "outputs": [],
   "source": []
  },
  {
   "cell_type": "code",
   "execution_count": null,
   "id": "9cc8aaa9-c8cb-423b-83b8-b7c42dc4895d",
   "metadata": {},
   "outputs": [],
   "source": [
    "total = 0\n",
    "for A, B, d, cnt in neigh_df.values:\n",
    "    total += H(A, B, 1, 1, 1, 'miedema_coefficients.xlsx', 0, 0, 1, 1, d, cnt)"
   ]
  },
  {
   "cell_type": "code",
   "execution_count": 56,
   "id": "1fed71d8-9f20-439f-a245-f7b2d4db2621",
   "metadata": {},
   "outputs": [
    {
     "data": {
      "text/plain": [
       "['Th', '2a', 'Mn', '8f']"
      ]
     },
     "execution_count": 56,
     "metadata": {},
     "output_type": "execute_result"
    }
   ],
   "source": [
    "[*i_decoded[0], *j_decoded[0]]"
   ]
  },
  {
   "cell_type": "code",
   "execution_count": 116,
   "id": "cc240e50-194f-4a19-8567-b36ce3eda881",
   "metadata": {},
   "outputs": [],
   "source": [
    "dist = []\n",
    "for n in range(len(i_decoded)):\n",
    "    dist.append([*i_decoded[n], *j_decoded[n]] + [round(d[n], 3), 1, 1])"
   ]
  },
  {
   "cell_type": "code",
   "execution_count": 71,
   "id": "8d96755d-5d3a-405a-bc76-1398b1d104d2",
   "metadata": {},
   "outputs": [],
   "source": [
    "# dist"
   ]
  },
  {
   "cell_type": "code",
   "execution_count": 83,
   "id": "f73f27e6-6982-4d8a-8aad-43558953f45d",
   "metadata": {
    "tags": []
   },
   "outputs": [],
   "source": [
    "dist = [[A, A_site, [B], B_site, Distance, [occ_A], [occ_B]] for (A, A_site, B, B_site, Distance, occ_A, occ_B) in dist]"
   ]
  },
  {
   "cell_type": "code",
   "execution_count": 209,
   "id": "a0e974fa-e6b7-4f93-8df7-fb5d7ce72f2c",
   "metadata": {},
   "outputs": [],
   "source": [
    "grouped_dist_df = pd.DataFrame(dist, columns=['A', 'A_site', 'B', 'B_site', 'Distance', 'occ_A', 'occ_B']).groupby(['A', 'A_site', 'B', 'B_site', 'Distance', 'occ_A', 'occ_B'])['Distance'].count().to_frame('cnt').reset_index()"
   ]
  },
  {
   "cell_type": "code",
   "execution_count": 211,
   "id": "8cc8ef3e-1df8-4226-8fe2-0d15c15452d1",
   "metadata": {},
   "outputs": [],
   "source": [
    "grouped_dist_arr = grouped_dist_df.values"
   ]
  },
  {
   "cell_type": "code",
   "execution_count": 174,
   "id": "b9d9bec6-0706-45c4-a0c5-ef8e22cf9f2d",
   "metadata": {},
   "outputs": [
    {
     "data": {
      "text/plain": [
       "array([['Mn', '8f', 'Mn', '8f', 2.5, 1, 1, 16],\n",
       "       ['Mn', '8f', 'Mn', '8i', 2.688, 1, 1, 32],\n",
       "       ['Mn', '8f', 'Mn', '8j', 2.52, 1, 1, 32],\n",
       "       ['Mn', '8f', 'Th', '2a', 3.32, 1, 1, 16],\n",
       "       ['Mn', '8i', 'Mn', '8f', 2.688, 1, 1, 32],\n",
       "       ['Mn', '8i', 'Mn', '8i', 2.419, 1, 1, 8],\n",
       "       ['Mn', '8i', 'Mn', '8i', 3.029, 1, 1, 32],\n",
       "       ['Mn', '8i', 'Mn', '8j', 2.696, 1, 1, 16],\n",
       "       ['Mn', '8i', 'Mn', '8j', 2.773, 1, 1, 16],\n",
       "       ['Mn', '8i', 'Th', '2a', 3.141, 1, 1, 8],\n",
       "       ['Mn', '8j', 'Mn', '8f', 2.52, 1, 1, 32],\n",
       "       ['Mn', '8j', 'Mn', '8i', 2.696, 1, 1, 16],\n",
       "       ['Mn', '8j', 'Mn', '8i', 2.773, 1, 1, 16],\n",
       "       ['Mn', '8j', 'Mn', '8j', 2.744, 1, 1, 16],\n",
       "       ['Mn', '8j', 'Th', '2a', 3.164, 1, 1, 16],\n",
       "       ['Th', '2a', 'Mn', '8f', 3.32, 1, 1, 16],\n",
       "       ['Th', '2a', 'Mn', '8i', 3.141, 1, 1, 8],\n",
       "       ['Th', '2a', 'Mn', '8j', 3.164, 1, 1, 16]], dtype=object)"
      ]
     },
     "execution_count": 174,
     "metadata": {},
     "output_type": "execute_result"
    }
   ],
   "source": [
    "grouped_dist_arr"
   ]
  },
  {
   "cell_type": "code",
   "execution_count": 212,
   "id": "04e9ea19-a107-483d-8def-5ff4ebe66e87",
   "metadata": {},
   "outputs": [
    {
     "name": "stderr",
     "output_type": "stream",
     "text": [
      "/var/folders/nl/3ptw5r714wq1p94dyjsnnjzrpcfvbh/T/ipykernel_89864/2550624748.py:1: VisibleDeprecationWarning: Creating an ndarray from ragged nested sequences (which is a list-or-tuple of lists-or-tuples-or ndarrays with different lengths or shapes) is deprecated. If you meant to do this, you must specify 'dtype=object' when creating the ndarray.\n",
      "  dist_arr = np.array([[[A], A_site, [B], B_site, Distance, [occ_A], [occ_B], cnt] for (A, A_site, B, B_site, Distance, occ_A, occ_B, cnt) in grouped_dist_arr])\n"
     ]
    }
   ],
   "source": [
    "dist_arr = np.array([[[A], A_site, [B], B_site, Distance, [occ_A], [occ_B], cnt] for (A, A_site, B, B_site, Distance, occ_A, occ_B, cnt) in grouped_dist_arr])"
   ]
  },
  {
   "cell_type": "code",
   "execution_count": 173,
   "id": "f3691b98-b15b-4adf-897f-24b79a792930",
   "metadata": {},
   "outputs": [
    {
     "data": {
      "text/plain": [
       "0.5"
      ]
     },
     "execution_count": 173,
     "metadata": {},
     "output_type": "execute_result"
    }
   ],
   "source": [
    "float('0.5')"
   ]
  },
  {
   "cell_type": "code",
   "execution_count": 213,
   "id": "3b3cd281-5768-4df0-887e-2d06fcaced19",
   "metadata": {},
   "outputs": [
    {
     "data": {
      "text/plain": [
       "array([['Mn', '8f', 'Mn', '8f', 2.5, 1, 1, 16],\n",
       "       ['Mn', '8f', 'Mn', '8i', 2.688, 1, 1, 32],\n",
       "       ['Mn', '8f', 'Mn', '8j', 2.52, 1, 1, 32],\n",
       "       ['Mn', '8f', 'Th', '2a', 3.32, 1, 1, 16],\n",
       "       ['Mn', '8i', 'Mn', '8f', 2.688, 1, 1, 32],\n",
       "       ['Mn', '8i', 'Mn', '8i', 2.419, 1, 1, 8],\n",
       "       ['Mn', '8i', 'Mn', '8i', 3.029, 1, 1, 32],\n",
       "       ['Mn', '8i', 'Mn', '8j', 2.696, 1, 1, 16],\n",
       "       ['Mn', '8i', 'Mn', '8j', 2.773, 1, 1, 16],\n",
       "       ['Mn', '8i', 'Th', '2a', 3.141, 1, 1, 8],\n",
       "       ['Mn', '8j', 'Mn', '8f', 2.52, 1, 1, 32],\n",
       "       ['Mn', '8j', 'Mn', '8i', 2.696, 1, 1, 16],\n",
       "       ['Mn', '8j', 'Mn', '8i', 2.773, 1, 1, 16],\n",
       "       ['Mn', '8j', 'Mn', '8j', 2.744, 1, 1, 16],\n",
       "       ['Mn', '8j', 'Th', '2a', 3.164, 1, 1, 16],\n",
       "       ['Th', '2a', 'Mn', '8f', 3.32, 1, 1, 16],\n",
       "       ['Th', '2a', 'Mn', '8i', 3.141, 1, 1, 8],\n",
       "       ['Th', '2a', 'Mn', '8j', 3.164, 1, 1, 16]], dtype=object)"
      ]
     },
     "execution_count": 213,
     "metadata": {},
     "output_type": "execute_result"
    }
   ],
   "source": [
    "grouped_dist_arr"
   ]
  },
  {
   "cell_type": "code",
   "execution_count": 183,
   "id": "dcc6d6de-6490-496f-81a4-1364a71c56fe",
   "metadata": {},
   "outputs": [
    {
     "data": {
      "text/plain": [
       "6"
      ]
     },
     "execution_count": 183,
     "metadata": {},
     "output_type": "execute_result"
    }
   ],
   "source": [
    "sum((grouped_dist_arr[:, 1] == '8i') & (grouped_dist_arr[:, 0] == 'Mn')) > 0\n"
   ]
  },
  {
   "cell_type": "code",
   "execution_count": 193,
   "id": "6bb3ecec-1370-45d9-a939-972bfbb6fd70",
   "metadata": {},
   "outputs": [],
   "source": [
    "grouped_dist_arr[(grouped_dist_arr[:, 1] == '8i') & (grouped_dist_arr[:, 0] == 'Mn')] "
   ]
  },
  {
   "cell_type": "code",
   "execution_count": 203,
   "id": "6eba24d6-7364-4151-a1d1-a16037706128",
   "metadata": {},
   "outputs": [
    {
     "data": {
      "text/plain": [
       "array([['Mn', '8f', 'Mn', '8f', 2.5, 1, 1, 16],\n",
       "       ['Mn', '8f', 'Mn', '8i', 2.688, 1, 0, 32],\n",
       "       ['Mn', '8f', 'Mn', '8j', 2.52, 1, 1, 32],\n",
       "       ['Mn', '8f', 'Th', '2a', 3.32, 1, 1, 16],\n",
       "       ['Mn', '8i', 'Mn', '8f', 2.688, 0, 1, 32],\n",
       "       ['Mn', '8i', 'Mn', '8i', 2.419, 0, 0, 8],\n",
       "       ['Mn', '8i', 'Mn', '8i', 3.029, 0, 0, 32],\n",
       "       ['Mn', '8i', 'Mn', '8j', 2.696, 0, 1, 16],\n",
       "       ['Mn', '8i', 'Mn', '8j', 2.773, 0, 1, 16],\n",
       "       ['Mn', '8i', 'Th', '2a', 3.141, 0, 1, 8],\n",
       "       ['Mn', '8j', 'Mn', '8f', 2.52, 1, 1, 32],\n",
       "       ['Mn', '8j', 'Mn', '8i', 2.696, 1, 0, 16],\n",
       "       ['Mn', '8j', 'Mn', '8i', 2.773, 1, 0, 16],\n",
       "       ['Mn', '8j', 'Mn', '8j', 2.744, 1, 1, 16],\n",
       "       ['Mn', '8j', 'Th', '2a', 3.164, 1, 1, 16],\n",
       "       ['Th', '2a', 'Mn', '8f', 3.32, 1, 1, 16],\n",
       "       ['Th', '2a', 'Mn', '8i', 3.141, 1, 0, 8],\n",
       "       ['Th', '2a', 'Mn', '8j', 3.164, 1, 1, 16]], dtype=object)"
      ]
     },
     "execution_count": 203,
     "metadata": {},
     "output_type": "execute_result"
    }
   ],
   "source": [
    "grouped_dist_arr"
   ]
  },
  {
   "cell_type": "code",
   "execution_count": 201,
   "id": "660c8d61-a9ee-4806-9865-505f110b3c91",
   "metadata": {},
   "outputs": [
    {
     "data": {
      "text/plain": [
       "True"
      ]
     },
     "execution_count": 201,
     "metadata": {},
     "output_type": "execute_result"
    }
   ],
   "source": [
    "(grouped_dist_arr[4, 1] == '8i') & (grouped_dist_arr[4, 0] == 'Mn')"
   ]
  },
  {
   "cell_type": "code",
   "execution_count": 207,
   "id": "c9287058-cbee-4e15-bd14-86674aa25f71",
   "metadata": {},
   "outputs": [
    {
     "name": "stderr",
     "output_type": "stream",
     "text": [
      "/var/folders/nl/3ptw5r714wq1p94dyjsnnjzrpcfvbh/T/ipykernel_89864/1066983051.py:10: VisibleDeprecationWarning: Creating an ndarray from ragged nested sequences (which is a list-or-tuple of lists-or-tuples-or ndarrays with different lengths or shapes) is deprecated. If you meant to do this, you must specify 'dtype=object' when creating the ndarray.\n",
      "  dist_arr = np.array([[[A], A_site, [B], B_site, Distance, [occ_A], [occ_B], cnt] for (A, A_site, B, B_site, Distance, occ_A, occ_B, cnt) in grouped_dist_arr])\n"
     ]
    }
   ],
   "source": [
    "# for i,_ in enumerate(grouped_dist_arr):\n",
    "#     if (grouped_dist_arr[i, 1] == '8i') & (grouped_dist_arr[i, 0] == 'Mn'):\n",
    "#         grouped_dist_arr[i, 5] = 0\n",
    "        \n",
    "#     if (grouped_dist_arr[i, 3] == '8i') & (grouped_dist_arr[i, 2] == 'Mn'):\n",
    "#         grouped_dist_arr[i, 6] = 0   \n",
    "#replace exsisted row\n",
    "#create dist nested arr\n",
    "# add new elements\n",
    "dist_arr = np.array([[[A], A_site, [B], B_site, Distance, [occ_A], [occ_B], cnt] for (A, A_site, B, B_site, Distance, occ_A, occ_B, cnt) in grouped_dist_arr])"
   ]
  },
  {
   "cell_type": "code",
   "execution_count": 214,
   "id": "e0968332-5c7d-4de3-8a7e-6f551256521a",
   "metadata": {},
   "outputs": [
    {
     "data": {
      "text/plain": [
       "array([[list(['Mn']), '8f', list(['Mn']), '8f', 2.5, list([1]),\n",
       "        list([1]), 16],\n",
       "       [list(['Mn']), '8f', list(['Mn']), '8i', 2.688, list([1]),\n",
       "        list([1]), 32],\n",
       "       [list(['Mn']), '8f', list(['Mn']), '8j', 2.52, list([1]),\n",
       "        list([1]), 32],\n",
       "       [list(['Mn']), '8f', list(['Th']), '2a', 3.32, list([1]),\n",
       "        list([1]), 16],\n",
       "       [list(['Mn']), '8i', list(['Mn']), '8f', 2.688, list([1]),\n",
       "        list([1]), 32],\n",
       "       [list(['Mn']), '8i', list(['Mn']), '8i', 2.419, list([1]),\n",
       "        list([1]), 8],\n",
       "       [list(['Mn']), '8i', list(['Mn']), '8i', 3.029, list([1]),\n",
       "        list([1]), 32],\n",
       "       [list(['Mn']), '8i', list(['Mn']), '8j', 2.696, list([1]),\n",
       "        list([1]), 16],\n",
       "       [list(['Mn']), '8i', list(['Mn']), '8j', 2.773, list([1]),\n",
       "        list([1]), 16],\n",
       "       [list(['Mn']), '8i', list(['Th']), '2a', 3.141, list([1]),\n",
       "        list([1]), 8],\n",
       "       [list(['Mn']), '8j', list(['Mn']), '8f', 2.52, list([1]),\n",
       "        list([1]), 32],\n",
       "       [list(['Mn']), '8j', list(['Mn']), '8i', 2.696, list([1]),\n",
       "        list([1]), 16],\n",
       "       [list(['Mn']), '8j', list(['Mn']), '8i', 2.773, list([1]),\n",
       "        list([1]), 16],\n",
       "       [list(['Mn']), '8j', list(['Mn']), '8j', 2.744, list([1]),\n",
       "        list([1]), 16],\n",
       "       [list(['Mn']), '8j', list(['Th']), '2a', 3.164, list([1]),\n",
       "        list([1]), 16],\n",
       "       [list(['Th']), '2a', list(['Mn']), '8f', 3.32, list([1]),\n",
       "        list([1]), 16],\n",
       "       [list(['Th']), '2a', list(['Mn']), '8i', 3.141, list([1]),\n",
       "        list([1]), 8],\n",
       "       [list(['Th']), '2a', list(['Mn']), '8j', 3.164, list([1]),\n",
       "        list([1]), 16]], dtype=object)"
      ]
     },
     "execution_count": 214,
     "metadata": {},
     "output_type": "execute_result"
    }
   ],
   "source": [
    "dist_arr"
   ]
  },
  {
   "cell_type": "code",
   "execution_count": null,
   "id": "c80004c5-6f25-4a5a-a939-f87acf0a5c12",
   "metadata": {},
   "outputs": [],
   "source": [
    "По dist_arr посчитать энтальпию"
   ]
  },
  {
   "cell_type": "code",
   "execution_count": 224,
   "id": "a553d441-962c-4802-8a9d-8d9cb7e4f2c1",
   "metadata": {},
   "outputs": [
    {
     "name": "stdout",
     "output_type": "stream",
     "text": [
      "Mn Mn\n",
      "Mn Mn\n",
      "Mn Mn\n",
      "Mn Th\n",
      "Mn Mn\n",
      "Mn Mn\n",
      "Mn Mn\n",
      "Mn Mn\n",
      "Mn Mn\n",
      "Mn Th\n",
      "Mn Mn\n",
      "Mn Mn\n",
      "Mn Mn\n",
      "Mn Mn\n",
      "Mn Th\n",
      "Th Mn\n",
      "Th Mn\n",
      "Th Mn\n"
     ]
    }
   ],
   "source": [
    "total = 0\n",
    "for A_ar, _, B_ar, _, dist, occ_A_ar, occ_B_ar, cnt in dist_arr:\n",
    "    for i, A in enumerate(A_ar):\n",
    "        for j, B in enumerate(B_ar):\n",
    "            total += H(A, B, 1, 1, 1, 'miedema_coefficients.xlsx', 0, 0, occ_A_ar[i], occ_B_ar[i], dist, cnt)"
   ]
  },
  {
   "cell_type": "code",
   "execution_count": 223,
   "id": "3205aee2-8205-421d-8a70-4dee149888fd",
   "metadata": {},
   "outputs": [
    {
     "data": {
      "text/plain": [
       "1.7032267294709938e+31"
      ]
     },
     "execution_count": 223,
     "metadata": {},
     "output_type": "execute_result"
    }
   ],
   "source": [
    "total"
   ]
  },
  {
   "cell_type": "code",
   "execution_count": null,
   "id": "2fd6511e-69a1-4973-840a-84aee9e2d973",
   "metadata": {},
   "outputs": [],
   "source": []
  },
  {
   "cell_type": "code",
   "execution_count": null,
   "id": "51e07f23-9945-45ea-a62b-00168a92a62c",
   "metadata": {},
   "outputs": [],
   "source": []
  },
  {
   "cell_type": "code",
   "execution_count": null,
   "id": "9ed6740f-5749-4afa-b457-0841b9d73059",
   "metadata": {},
   "outputs": [],
   "source": []
  },
  {
   "cell_type": "code",
   "execution_count": null,
   "id": "c3593aaa-9acc-4ece-ba35-f55bc1e15751",
   "metadata": {},
   "outputs": [],
   "source": []
  },
  {
   "cell_type": "code",
   "execution_count": 218,
   "id": "6b3f614a-28a9-4121-a77d-49cb82496dae",
   "metadata": {},
   "outputs": [
    {
     "data": {
      "text/plain": [
       "\n",
       "------Crystal from Seed------\n",
       "Dimension: 3\n",
       "Composition: Th2Mn24\n",
       "Group: I 4/m m m (139)\n",
       "  8.7000,   8.7000,   5.0000,  90.0000,  90.0000,  90.0000, tetragonal\n",
       "Wyckoff sites:\n",
       "\tTh @ [ 0.0000  0.0000  0.0000], WP [2a] Site [4/m2/m2/m]\n",
       "\tMn @ [ 0.2770  0.5000  0.0000], WP [8j] Site [mm2.]\n",
       "\tMn @ [ 0.3610  0.0000  0.0000], WP [8i] Site [mm2.]\n",
       "\tMn @ [ 0.2500  0.2500  0.2500], WP [8f] Site [..2/m]"
      ]
     },
     "execution_count": 218,
     "metadata": {},
     "output_type": "execute_result"
    }
   ],
   "source": [
    "crystal_pyxtal."
   ]
  },
  {
   "cell_type": "code",
   "execution_count": 177,
   "id": "b65c6585-f0f5-44af-a48e-5e29b73ef01e",
   "metadata": {},
   "outputs": [],
   "source": [
    "for row in dist_arr[(grouped_dist_arr[:, 1] == '8i')]:\n",
    "    row[0].append('K')\n",
    "    row[5].append(1)\n",
    "    row[5] = [occ/norm_sum for occ in row[5]]"
   ]
  },
  {
   "cell_type": "code",
   "execution_count": 178,
   "id": "6ce86dd7-fa37-4ff7-95a7-a69816858ca4",
   "metadata": {},
   "outputs": [],
   "source": [
    "for row in dist_arr[(grouped_dist_arr[:, 3] == '8i')]:\n",
    "    row[2].append('K')\n",
    "    row[6].append(1)\n",
    "    norm_sum = sum(row[6])\n",
    "    row[6] = [occ/norm_sum for occ in row[6]]"
   ]
  },
  {
   "cell_type": "code",
   "execution_count": 179,
   "id": "f2ecbf99-919f-4064-bc2e-6532bdd20e08",
   "metadata": {},
   "outputs": [
    {
     "name": "stdout",
     "output_type": "stream",
     "text": [
      "[1.0]\n",
      "[0.25, 0.25, 0.5]\n",
      "[1.0]\n",
      "[1.0]\n",
      "[1.0]\n",
      "[0.25, 0.25, 0.5]\n",
      "[0.25, 0.25, 0.5]\n",
      "[1.0]\n",
      "[1.0]\n",
      "[1.0]\n",
      "[1.0]\n",
      "[0.25, 0.25, 0.5]\n",
      "[0.25, 0.25, 0.5]\n",
      "[1.0]\n",
      "[1.0]\n",
      "[1.0]\n",
      "[0.25, 0.25, 0.5]\n",
      "[1.0]\n"
     ]
    }
   ],
   "source": [
    "for i, row in enumerate(dist_arr):\n",
    "    norm_sum = sum(dist_arr[i][6])\n",
    "    dist_arr[i][6] = [occ/norm_sum for occ in dist_arr[i][6]]\n",
    "    print(dist_arr[i][6])\n",
    "    norm_sum = sum(dist_arr[i][5])\n",
    "    dist_arr[i][5] = [occ/norm_sum for occ in dist_arr[i][5]]"
   ]
  },
  {
   "cell_type": "code",
   "execution_count": 206,
   "id": "d46033b8-2c83-4719-ab4d-00f378bc29b5",
   "metadata": {},
   "outputs": [
    {
     "data": {
      "text/plain": [
       "array([[list(['Mn']), '8f', list(['Mn']), '8f', 2.5, list([1]),\n",
       "        list([1]), 16],\n",
       "       [list(['Mn']), '8f', list(['Mn']), '8i', 2.688, list([1]),\n",
       "        list([0]), 32],\n",
       "       [list(['Mn']), '8f', list(['Mn']), '8j', 2.52, list([1]),\n",
       "        list([1]), 32],\n",
       "       [list(['Mn']), '8f', list(['Th']), '2a', 3.32, list([1]),\n",
       "        list([1]), 16],\n",
       "       [list(['Mn']), '8i', list(['Mn']), '8f', 2.688, list([0]),\n",
       "        list([1]), 32],\n",
       "       [list(['Mn']), '8i', list(['Mn']), '8i', 2.419, list([0]),\n",
       "        list([0]), 8],\n",
       "       [list(['Mn']), '8i', list(['Mn']), '8i', 3.029, list([0]),\n",
       "        list([0]), 32],\n",
       "       [list(['Mn']), '8i', list(['Mn']), '8j', 2.696, list([0]),\n",
       "        list([1]), 16],\n",
       "       [list(['Mn']), '8i', list(['Mn']), '8j', 2.773, list([0]),\n",
       "        list([1]), 16],\n",
       "       [list(['Mn']), '8i', list(['Th']), '2a', 3.141, list([0]),\n",
       "        list([1]), 8],\n",
       "       [list(['Mn']), '8j', list(['Mn']), '8f', 2.52, list([1]),\n",
       "        list([1]), 32],\n",
       "       [list(['Mn']), '8j', list(['Mn']), '8i', 2.696, list([1]),\n",
       "        list([0]), 16],\n",
       "       [list(['Mn']), '8j', list(['Mn']), '8i', 2.773, list([1]),\n",
       "        list([0]), 16],\n",
       "       [list(['Mn']), '8j', list(['Mn']), '8j', 2.744, list([1]),\n",
       "        list([1]), 16],\n",
       "       [list(['Mn']), '8j', list(['Th']), '2a', 3.164, list([1]),\n",
       "        list([1]), 16],\n",
       "       [list(['Th']), '2a', list(['Mn']), '8f', 3.32, list([1]),\n",
       "        list([1]), 16],\n",
       "       [list(['Th']), '2a', list(['Mn']), '8i', 3.141, list([1]),\n",
       "        list([0]), 8],\n",
       "       [list(['Th']), '2a', list(['Mn']), '8j', 3.164, list([1]),\n",
       "        list([1]), 16]], dtype=object)"
      ]
     },
     "execution_count": 206,
     "metadata": {},
     "output_type": "execute_result"
    }
   ],
   "source": [
    "dist_arr"
   ]
  },
  {
   "cell_type": "code",
   "execution_count": 161,
   "id": "b701caf5-17c4-41c6-8698-8ef937c16382",
   "metadata": {},
   "outputs": [
    {
     "data": {
      "text/plain": [
       "2"
      ]
     },
     "execution_count": 161,
     "metadata": {},
     "output_type": "execute_result"
    }
   ],
   "source": [
    "sm = sum([1, 1])a\n"
   ]
  },
  {
   "cell_type": "code",
   "execution_count": null,
   "id": "e1ed830a-1e20-44da-ae87-e2177ed3bc9c",
   "metadata": {},
   "outputs": [],
   "source": []
  },
  {
   "cell_type": "code",
   "execution_count": 171,
   "id": "4f26204d-62d6-4a08-a5b7-0c9ab85fe64a",
   "metadata": {},
   "outputs": [
    {
     "data": {
      "text/plain": [
       "array([[list(['Mn']), '8f', list(['Mn']), '8f', 2.5, list([1.0]),\n",
       "        list([1.0]), 16],\n",
       "       [list(['Mn']), '8f', list(['Mn', 'K']), '8i', 2.688, list([1.0]),\n",
       "        list([0.5, 0.5]), 32],\n",
       "       [list(['Mn']), '8f', list(['Mn']), '8j', 2.52, list([1.0]),\n",
       "        list([1.0]), 32],\n",
       "       [list(['Mn']), '8f', list(['Th']), '2a', 3.32, list([1.0]),\n",
       "        list([1.0]), 16],\n",
       "       [list(['Mn', 'K']), '8i', list(['Mn']), '8f', 2.688,\n",
       "        list([0.5, 0.5]), list([1.0]), 32],\n",
       "       [list(['Mn', 'K']), '8i', list(['Mn', 'K']), '8i', 2.419,\n",
       "        list([0.5, 0.5]), list([0.5, 0.5]), 8],\n",
       "       [list(['Mn', 'K']), '8i', list(['Mn', 'K']), '8i', 3.029,\n",
       "        list([0.5, 0.5]), list([0.5, 0.5]), 32],\n",
       "       [list(['Mn', 'K']), '8i', list(['Mn']), '8j', 2.696,\n",
       "        list([0.5, 0.5]), list([1.0]), 16],\n",
       "       [list(['Mn', 'K']), '8i', list(['Mn']), '8j', 2.773,\n",
       "        list([0.5, 0.5]), list([1.0]), 16],\n",
       "       [list(['Mn', 'K']), '8i', list(['Th']), '2a', 3.141,\n",
       "        list([0.5, 0.5]), list([1.0]), 8],\n",
       "       [list(['Mn']), '8j', list(['Mn']), '8f', 2.52, list([1.0]),\n",
       "        list([1.0]), 32],\n",
       "       [list(['Mn']), '8j', list(['Mn', 'K']), '8i', 2.696, list([1.0]),\n",
       "        list([0.5, 0.5]), 16],\n",
       "       [list(['Mn']), '8j', list(['Mn', 'K']), '8i', 2.773, list([1.0]),\n",
       "        list([0.5, 0.5]), 16],\n",
       "       [list(['Mn']), '8j', list(['Mn']), '8j', 2.744, list([1.0]),\n",
       "        list([1.0]), 16],\n",
       "       [list(['Mn']), '8j', list(['Th']), '2a', 3.164, list([1.0]),\n",
       "        list([1.0]), 16],\n",
       "       [list(['Th']), '2a', list(['Mn']), '8f', 3.32, list([1.0]),\n",
       "        list([1.0]), 16],\n",
       "       [list(['Th']), '2a', list(['Mn', 'K']), '8i', 3.141, list([1.0]),\n",
       "        list([0.5, 0.5]), 8],\n",
       "       [list(['Th']), '2a', list(['Mn']), '8j', 3.164, list([1.0]),\n",
       "        list([1.0]), 16]], dtype=object)"
      ]
     },
     "execution_count": 171,
     "metadata": {},
     "output_type": "execute_result"
    }
   ],
   "source": [
    "dist_arr"
   ]
  },
  {
   "cell_type": "code",
   "execution_count": 148,
   "id": "717ceb7c-5d83-404e-9dc4-df5d2bbb7ddf",
   "metadata": {},
   "outputs": [
    {
     "data": {
      "text/plain": [
       "array([[list(['Mn', 'K']), '8i', list(['Mn']), '8f', 2.688, list([1]),\n",
       "        list([1]), 32],\n",
       "       [list(['Mn', 'K']), '8i', list(['Mn']), '8i', 2.419, list([1]),\n",
       "        list([1]), 8],\n",
       "       [list(['Mn', 'K']), '8i', list(['Mn']), '8i', 3.029, list([1]),\n",
       "        list([1]), 32],\n",
       "       [list(['Mn', 'K']), '8i', list(['Mn']), '8j', 2.696, list([1]),\n",
       "        list([1]), 16],\n",
       "       [list(['Mn', 'K']), '8i', list(['Mn']), '8j', 2.773, list([1]),\n",
       "        list([1]), 16],\n",
       "       [list(['Mn', 'K']), '8i', list(['Th']), '2a', 3.141, list([1]),\n",
       "        list([1]), 8]], dtype=object)"
      ]
     },
     "execution_count": 148,
     "metadata": {},
     "output_type": "execute_result"
    }
   ],
   "source": [
    "dist_arr[(grouped_dist_arr[:, 1] == '8i')]"
   ]
  },
  {
   "cell_type": "code",
   "execution_count": 111,
   "id": "16b5ecd4-ae5f-4bf0-9a03-166401ad5115",
   "metadata": {},
   "outputs": [
    {
     "data": {
      "text/plain": [
       "['Mn',\n",
       " 'Mn',\n",
       " 'Mn',\n",
       " 'Mn',\n",
       " 'Mn',\n",
       " 'Mn',\n",
       " 'Mn',\n",
       " 'Mn',\n",
       " 'Mn',\n",
       " 'Mn',\n",
       " 'Mn',\n",
       " 'Mn',\n",
       " 'Mn',\n",
       " 'Mn',\n",
       " 'Mn',\n",
       " 'Th',\n",
       " 'Th',\n",
       " 'Th']"
      ]
     },
     "execution_count": 111,
     "metadata": {},
     "output_type": "execute_result"
    }
   ],
   "source": [
    "grouped_dist['A'].tolist()"
   ]
  },
  {
   "cell_type": "code",
   "execution_count": 109,
   "id": "276a1057-dd16-4af6-80f6-3f4df283f969",
   "metadata": {},
   "outputs": [
    {
     "data": {
      "text/html": [
       "<div>\n",
       "<style scoped>\n",
       "    .dataframe tbody tr th:only-of-type {\n",
       "        vertical-align: middle;\n",
       "    }\n",
       "\n",
       "    .dataframe tbody tr th {\n",
       "        vertical-align: top;\n",
       "    }\n",
       "\n",
       "    .dataframe thead th {\n",
       "        text-align: right;\n",
       "    }\n",
       "</style>\n",
       "<table border=\"1\" class=\"dataframe\">\n",
       "  <thead>\n",
       "    <tr style=\"text-align: right;\">\n",
       "      <th></th>\n",
       "      <th>A</th>\n",
       "      <th>A_site</th>\n",
       "      <th>B</th>\n",
       "      <th>B_site</th>\n",
       "      <th>Distance</th>\n",
       "      <th>occ_A</th>\n",
       "      <th>occ_B</th>\n",
       "      <th>cnt</th>\n",
       "    </tr>\n",
       "  </thead>\n",
       "  <tbody>\n",
       "    <tr>\n",
       "      <th>0</th>\n",
       "      <td>Mn</td>\n",
       "      <td>8f</td>\n",
       "      <td>Mn</td>\n",
       "      <td>8f</td>\n",
       "      <td>2.500</td>\n",
       "      <td>1</td>\n",
       "      <td>1</td>\n",
       "      <td>16</td>\n",
       "    </tr>\n",
       "    <tr>\n",
       "      <th>1</th>\n",
       "      <td>Mn</td>\n",
       "      <td>8f</td>\n",
       "      <td>Mn</td>\n",
       "      <td>8i</td>\n",
       "      <td>2.688</td>\n",
       "      <td>1</td>\n",
       "      <td>1</td>\n",
       "      <td>32</td>\n",
       "    </tr>\n",
       "    <tr>\n",
       "      <th>2</th>\n",
       "      <td>Mn</td>\n",
       "      <td>8f</td>\n",
       "      <td>Mn</td>\n",
       "      <td>8j</td>\n",
       "      <td>2.520</td>\n",
       "      <td>1</td>\n",
       "      <td>1</td>\n",
       "      <td>32</td>\n",
       "    </tr>\n",
       "    <tr>\n",
       "      <th>3</th>\n",
       "      <td>Mn</td>\n",
       "      <td>8f</td>\n",
       "      <td>Th</td>\n",
       "      <td>2a</td>\n",
       "      <td>3.320</td>\n",
       "      <td>1</td>\n",
       "      <td>1</td>\n",
       "      <td>16</td>\n",
       "    </tr>\n",
       "    <tr>\n",
       "      <th>4</th>\n",
       "      <td>Mn</td>\n",
       "      <td>8i</td>\n",
       "      <td>Mn</td>\n",
       "      <td>8f</td>\n",
       "      <td>2.688</td>\n",
       "      <td>1</td>\n",
       "      <td>1</td>\n",
       "      <td>32</td>\n",
       "    </tr>\n",
       "    <tr>\n",
       "      <th>5</th>\n",
       "      <td>Mn</td>\n",
       "      <td>8i</td>\n",
       "      <td>Mn</td>\n",
       "      <td>8i</td>\n",
       "      <td>2.419</td>\n",
       "      <td>1</td>\n",
       "      <td>1</td>\n",
       "      <td>8</td>\n",
       "    </tr>\n",
       "    <tr>\n",
       "      <th>6</th>\n",
       "      <td>Mn</td>\n",
       "      <td>8i</td>\n",
       "      <td>Mn</td>\n",
       "      <td>8i</td>\n",
       "      <td>3.029</td>\n",
       "      <td>1</td>\n",
       "      <td>1</td>\n",
       "      <td>32</td>\n",
       "    </tr>\n",
       "    <tr>\n",
       "      <th>7</th>\n",
       "      <td>Mn</td>\n",
       "      <td>8i</td>\n",
       "      <td>Mn</td>\n",
       "      <td>8j</td>\n",
       "      <td>2.696</td>\n",
       "      <td>1</td>\n",
       "      <td>1</td>\n",
       "      <td>16</td>\n",
       "    </tr>\n",
       "    <tr>\n",
       "      <th>8</th>\n",
       "      <td>Mn</td>\n",
       "      <td>8i</td>\n",
       "      <td>Mn</td>\n",
       "      <td>8j</td>\n",
       "      <td>2.773</td>\n",
       "      <td>1</td>\n",
       "      <td>1</td>\n",
       "      <td>16</td>\n",
       "    </tr>\n",
       "    <tr>\n",
       "      <th>9</th>\n",
       "      <td>Mn</td>\n",
       "      <td>8i</td>\n",
       "      <td>Th</td>\n",
       "      <td>2a</td>\n",
       "      <td>3.141</td>\n",
       "      <td>1</td>\n",
       "      <td>1</td>\n",
       "      <td>8</td>\n",
       "    </tr>\n",
       "    <tr>\n",
       "      <th>10</th>\n",
       "      <td>Mn</td>\n",
       "      <td>8j</td>\n",
       "      <td>Mn</td>\n",
       "      <td>8f</td>\n",
       "      <td>2.520</td>\n",
       "      <td>1</td>\n",
       "      <td>1</td>\n",
       "      <td>32</td>\n",
       "    </tr>\n",
       "    <tr>\n",
       "      <th>11</th>\n",
       "      <td>Mn</td>\n",
       "      <td>8j</td>\n",
       "      <td>Mn</td>\n",
       "      <td>8i</td>\n",
       "      <td>2.696</td>\n",
       "      <td>1</td>\n",
       "      <td>1</td>\n",
       "      <td>16</td>\n",
       "    </tr>\n",
       "    <tr>\n",
       "      <th>12</th>\n",
       "      <td>Mn</td>\n",
       "      <td>8j</td>\n",
       "      <td>Mn</td>\n",
       "      <td>8i</td>\n",
       "      <td>2.773</td>\n",
       "      <td>1</td>\n",
       "      <td>1</td>\n",
       "      <td>16</td>\n",
       "    </tr>\n",
       "    <tr>\n",
       "      <th>13</th>\n",
       "      <td>Mn</td>\n",
       "      <td>8j</td>\n",
       "      <td>Mn</td>\n",
       "      <td>8j</td>\n",
       "      <td>2.744</td>\n",
       "      <td>1</td>\n",
       "      <td>1</td>\n",
       "      <td>16</td>\n",
       "    </tr>\n",
       "    <tr>\n",
       "      <th>14</th>\n",
       "      <td>Mn</td>\n",
       "      <td>8j</td>\n",
       "      <td>Th</td>\n",
       "      <td>2a</td>\n",
       "      <td>3.164</td>\n",
       "      <td>1</td>\n",
       "      <td>1</td>\n",
       "      <td>16</td>\n",
       "    </tr>\n",
       "    <tr>\n",
       "      <th>15</th>\n",
       "      <td>Th</td>\n",
       "      <td>2a</td>\n",
       "      <td>Mn</td>\n",
       "      <td>8f</td>\n",
       "      <td>3.320</td>\n",
       "      <td>1</td>\n",
       "      <td>1</td>\n",
       "      <td>16</td>\n",
       "    </tr>\n",
       "    <tr>\n",
       "      <th>16</th>\n",
       "      <td>Th</td>\n",
       "      <td>2a</td>\n",
       "      <td>Mn</td>\n",
       "      <td>8i</td>\n",
       "      <td>3.141</td>\n",
       "      <td>1</td>\n",
       "      <td>1</td>\n",
       "      <td>8</td>\n",
       "    </tr>\n",
       "    <tr>\n",
       "      <th>17</th>\n",
       "      <td>Th</td>\n",
       "      <td>2a</td>\n",
       "      <td>Mn</td>\n",
       "      <td>8j</td>\n",
       "      <td>3.164</td>\n",
       "      <td>1</td>\n",
       "      <td>1</td>\n",
       "      <td>16</td>\n",
       "    </tr>\n",
       "  </tbody>\n",
       "</table>\n",
       "</div>"
      ],
      "text/plain": [
       "     A A_site   B B_site  Distance  occ_A  occ_B  cnt\n",
       "0   Mn     8f  Mn     8f     2.500      1      1   16\n",
       "1   Mn     8f  Mn     8i     2.688      1      1   32\n",
       "2   Mn     8f  Mn     8j     2.520      1      1   32\n",
       "3   Mn     8f  Th     2a     3.320      1      1   16\n",
       "4   Mn     8i  Mn     8f     2.688      1      1   32\n",
       "5   Mn     8i  Mn     8i     2.419      1      1    8\n",
       "6   Mn     8i  Mn     8i     3.029      1      1   32\n",
       "7   Mn     8i  Mn     8j     2.696      1      1   16\n",
       "8   Mn     8i  Mn     8j     2.773      1      1   16\n",
       "9   Mn     8i  Th     2a     3.141      1      1    8\n",
       "10  Mn     8j  Mn     8f     2.520      1      1   32\n",
       "11  Mn     8j  Mn     8i     2.696      1      1   16\n",
       "12  Mn     8j  Mn     8i     2.773      1      1   16\n",
       "13  Mn     8j  Mn     8j     2.744      1      1   16\n",
       "14  Mn     8j  Th     2a     3.164      1      1   16\n",
       "15  Th     2a  Mn     8f     3.320      1      1   16\n",
       "16  Th     2a  Mn     8i     3.141      1      1    8\n",
       "17  Th     2a  Mn     8j     3.164      1      1   16"
      ]
     },
     "execution_count": 109,
     "metadata": {},
     "output_type": "execute_result"
    }
   ],
   "source": [
    "grouped_dist.apply(lambda x: list(x))"
   ]
  },
  {
   "cell_type": "code",
   "execution_count": 89,
   "id": "2e045bb4-35ac-47c8-bc25-44047b9d5ec5",
   "metadata": {},
   "outputs": [
    {
     "data": {
      "text/html": [
       "<div>\n",
       "<style scoped>\n",
       "    .dataframe tbody tr th:only-of-type {\n",
       "        vertical-align: middle;\n",
       "    }\n",
       "\n",
       "    .dataframe tbody tr th {\n",
       "        vertical-align: top;\n",
       "    }\n",
       "\n",
       "    .dataframe thead th {\n",
       "        text-align: right;\n",
       "    }\n",
       "</style>\n",
       "<table border=\"1\" class=\"dataframe\">\n",
       "  <thead>\n",
       "    <tr style=\"text-align: right;\">\n",
       "      <th></th>\n",
       "      <th>0</th>\n",
       "    </tr>\n",
       "  </thead>\n",
       "  <tbody>\n",
       "    <tr>\n",
       "      <th>0</th>\n",
       "      <td>[]</td>\n",
       "    </tr>\n",
       "  </tbody>\n",
       "</table>\n",
       "</div>"
      ],
      "text/plain": [
       "    0\n",
       "0  []"
      ]
     },
     "execution_count": 89,
     "metadata": {},
     "output_type": "execute_result"
    }
   ],
   "source": [
    "pd.DataFrame([[[]]])"
   ]
  },
  {
   "cell_type": "code",
   "execution_count": 88,
   "id": "32dedc7e-8432-4a4d-8682-d5ecd5ab6f66",
   "metadata": {},
   "outputs": [],
   "source": [
    "tmp= []"
   ]
  },
  {
   "cell_type": "code",
   "execution_count": 65,
   "id": "7202f9c3-3671-4166-893b-d4664819f2dc",
   "metadata": {},
   "outputs": [
    {
     "data": {
      "text/html": [
       "<div>\n",
       "<style scoped>\n",
       "    .dataframe tbody tr th:only-of-type {\n",
       "        vertical-align: middle;\n",
       "    }\n",
       "\n",
       "    .dataframe tbody tr th {\n",
       "        vertical-align: top;\n",
       "    }\n",
       "\n",
       "    .dataframe thead th {\n",
       "        text-align: right;\n",
       "    }\n",
       "</style>\n",
       "<table border=\"1\" class=\"dataframe\">\n",
       "  <thead>\n",
       "    <tr style=\"text-align: right;\">\n",
       "      <th></th>\n",
       "      <th>A</th>\n",
       "      <th>A_site</th>\n",
       "      <th>B</th>\n",
       "      <th>B_site</th>\n",
       "      <th>Distance</th>\n",
       "      <th>cnt</th>\n",
       "    </tr>\n",
       "  </thead>\n",
       "  <tbody>\n",
       "    <tr>\n",
       "      <th>4</th>\n",
       "      <td>Mn</td>\n",
       "      <td>8i</td>\n",
       "      <td>Mn</td>\n",
       "      <td>8f</td>\n",
       "      <td>2.688</td>\n",
       "      <td>32</td>\n",
       "    </tr>\n",
       "    <tr>\n",
       "      <th>5</th>\n",
       "      <td>Mn</td>\n",
       "      <td>8i</td>\n",
       "      <td>Mn</td>\n",
       "      <td>8i</td>\n",
       "      <td>2.419</td>\n",
       "      <td>8</td>\n",
       "    </tr>\n",
       "    <tr>\n",
       "      <th>6</th>\n",
       "      <td>Mn</td>\n",
       "      <td>8i</td>\n",
       "      <td>Mn</td>\n",
       "      <td>8i</td>\n",
       "      <td>3.029</td>\n",
       "      <td>32</td>\n",
       "    </tr>\n",
       "    <tr>\n",
       "      <th>7</th>\n",
       "      <td>Mn</td>\n",
       "      <td>8i</td>\n",
       "      <td>Mn</td>\n",
       "      <td>8j</td>\n",
       "      <td>2.696</td>\n",
       "      <td>16</td>\n",
       "    </tr>\n",
       "    <tr>\n",
       "      <th>8</th>\n",
       "      <td>Mn</td>\n",
       "      <td>8i</td>\n",
       "      <td>Mn</td>\n",
       "      <td>8j</td>\n",
       "      <td>2.773</td>\n",
       "      <td>16</td>\n",
       "    </tr>\n",
       "    <tr>\n",
       "      <th>9</th>\n",
       "      <td>Mn</td>\n",
       "      <td>8i</td>\n",
       "      <td>Th</td>\n",
       "      <td>2a</td>\n",
       "      <td>3.141</td>\n",
       "      <td>8</td>\n",
       "    </tr>\n",
       "  </tbody>\n",
       "</table>\n",
       "</div>"
      ],
      "text/plain": [
       "    A A_site   B B_site  Distance  cnt\n",
       "4  Mn     8i  Mn     8f     2.688   32\n",
       "5  Mn     8i  Mn     8i     2.419    8\n",
       "6  Mn     8i  Mn     8i     3.029   32\n",
       "7  Mn     8i  Mn     8j     2.696   16\n",
       "8  Mn     8i  Mn     8j     2.773   16\n",
       "9  Mn     8i  Th     2a     3.141    8"
      ]
     },
     "execution_count": 65,
     "metadata": {},
     "output_type": "execute_result"
    }
   ],
   "source": [
    "neigh_df[neigh_df.A_site=='8i']"
   ]
  },
  {
   "cell_type": "code",
   "execution_count": 64,
   "id": "9358a263-477c-4c4f-aa82-09ec623d66da",
   "metadata": {},
   "outputs": [
    {
     "data": {
      "text/plain": [
       "('K', '8i')"
      ]
     },
     "execution_count": 64,
     "metadata": {},
     "output_type": "execute_result"
    }
   ],
   "source": [
    "('K', '8i')"
   ]
  },
  {
   "cell_type": "code",
   "execution_count": null,
   "id": "2e9f8892-aec7-45ff-a935-3c66ec166771",
   "metadata": {},
   "outputs": [],
   "source": [
    "neigh_df"
   ]
  },
  {
   "cell_type": "code",
   "execution_count": null,
   "id": "3bd7a57e-9633-40c8-a9f9-2db5411d856a",
   "metadata": {},
   "outputs": [],
   "source": [
    "# спарсить элементы с m по n и замену найти  и добавить окупацию. Т. е добавить окупацию А и Б!!!!!!!\n",
    "базовый паровый набор сохранить"
   ]
  },
  {
   "cell_type": "code",
   "execution_count": null,
   "id": "76261c38-4cfc-4a12-901f-4698196021eb",
   "metadata": {},
   "outputs": [],
   "source": [
    "#теперь нaадо все это добро: таблицу, график кристалла sites выводить!!!!"
   ]
  }
 ],
 "metadata": {
  "kernelspec": {
   "display_name": "myenv",
   "language": "python",
   "name": "myenv"
  },
  "language_info": {
   "codemirror_mode": {
    "name": "ipython",
    "version": 3
   },
   "file_extension": ".py",
   "mimetype": "text/x-python",
   "name": "python",
   "nbconvert_exporter": "python",
   "pygments_lexer": "ipython3",
   "version": "3.10.8"
  }
 },
 "nbformat": 4,
 "nbformat_minor": 5
}
