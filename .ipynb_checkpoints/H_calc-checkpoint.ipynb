{
 "cells": [
  {
   "cell_type": "code",
   "execution_count": 4,
   "id": "2064f77a-bd28-4a50-b61b-ec25f5dc9ec2",
   "metadata": {},
   "outputs": [],
   "source": [
    "import pandas as pd\n",
    "\n",
    "def H_miedema (A: str, B: str, c_A: float, c_B: float, \n",
    "       type_of_compound: int, miedema_coifficients_path=None)->float:\n",
    "    '''\n",
    "    Takes the parameters of a chemical compound and returns H, i.e. the enthalpy of the miedema\n",
    "    \n",
    "    A, B: name of elements\n",
    "    c_A, c_B: atomic fractions\n",
    "    type_of_compound: 1-disordered solid solution, 2-ordered compound, 3-amorphous phase\n",
    "    miedema_coefficients_path: path to file with corresponding coefficients\n",
    "    \n",
    "    Example:\n",
    "    >> H('Ca', 'Co', 1, 3, 2, 'miedema_coefficients.xlsx') \n",
    "    >> 11.999574005596852\n",
    "    '''\n",
    "    miedema_coeff_df = pd.read_excel(miedema_coifficients_path, index_col=0)\n",
    "    \n",
    "    names_of_params = ['electronegativity', 'discontinuity', 'volume', 'transitivity', 'radius']\n",
    "    \n",
    "    QP = 9.4\n",
    "    \n",
    "    RP = 0\n",
    "\n",
    "    phi_A, n_A, V_A, T_A, r_A = miedema_coeff_df.loc[A, names_of_params]\n",
    "    phi_B, n_B, V_B, T_B, r_B = miedema_coeff_df.loc[B, names_of_params]\n",
    "\n",
    "    delta_phi = phi_A - phi_B\n",
    "    delta_n = n_A - n_B\n",
    "    \n",
    "    # surface concentration\n",
    "    c_A_s = round(c_A * V_A / (c_A * V_A + c_B * V_B), 3)\n",
    "    c_B_s = round(c_B * V_B / (c_A * V_A + c_B * V_B), 3)\n",
    "    \n",
    "    match type_of_compound:\n",
    "        case 1: f = c_A_s * c_B_s\n",
    "        case 2: f = c_A_s * c_B_s * (1 + 5 * (c_A_s * c_B_s)**2)\n",
    "        case _: f = c_A_s * c_B_s * (1 + 8 * (c_A_s * c_B_s)**2)\n",
    "    \n",
    "    match T_A, T_B:\n",
    "        case (1, 1): P = 14.1\n",
    "        case (1, 0) | (0, 1): P = 12.3\n",
    "        case _: P = 10.6\n",
    "    \n",
    "    H = 2 * f * (c_A * V_A + c_B * V_B) / (1 / n_A + 1 / n_B) * (-P * delta_phi**2 + QP * P * delta_n**2)\n",
    "    Sc = 1 - c_B_s * (V_A - V_B) / (c_A_s * V_A + c_B_s * V_B)\n",
    "    H *= Sc\n",
    "    return H, r_A, r_B"
   ]
  },
  {
   "cell_type": "code",
   "execution_count": 9,
   "id": "36631d8d-f79e-4361-8f82-15842207107f",
   "metadata": {},
   "outputs": [],
   "source": [
    "miedema_coeff_df = pd.read_excel('miedema_coefficients.xlsx', index_col=0)\n",
    "    \n",
    "names_of_params = ['electronegativity', 'discontinuity', 'volume', 'transitivity', 'radius']"
   ]
  },
  {
   "cell_type": "code",
   "execution_count": 10,
   "id": "9e162b9a-1e58-43cc-af30-902f64d66bba",
   "metadata": {},
   "outputs": [],
   "source": [
    "A = 'Th'\n",
    "B = 'Mn'"
   ]
  },
  {
   "cell_type": "code",
   "execution_count": 11,
   "id": "52374d36-292d-45df-ae83-bff73e40cfd5",
   "metadata": {},
   "outputs": [],
   "source": [
    "[phi_A, n_A, V_A, T_A, r_A], [phi_B, n_B, V_B, T_B, r_B] =  miedema_coeff_df.loc[[A,B], names_of_params].values"
   ]
  },
  {
   "cell_type": "code",
   "execution_count": 12,
   "id": "c06488ba-7400-4dc1-8299-630af36bda2a",
   "metadata": {},
   "outputs": [
    {
     "data": {
      "text/plain": [
       "([3.3, 1.28, 19.8, 1.0, 7.3], [4.45, 1.61, 3.8, 1.0, 1.0])"
      ]
     },
     "execution_count": 12,
     "metadata": {},
     "output_type": "execute_result"
    }
   ],
   "source": [
    "[phi_A, n_A, V_A, T_A, r_A], [phi_B, n_B, V_B, T_B, r_B]"
   ]
  },
  {
   "cell_type": "code",
   "execution_count": 13,
   "id": "2e82bb67-5707-4739-b670-0f51393476b2",
   "metadata": {},
   "outputs": [],
   "source": []
  },
  {
   "cell_type": "code",
   "execution_count": 19,
   "id": "dc34ff06-ae5c-48f9-a80d-15502ed60616",
   "metadata": {},
   "outputs": [],
   "source": [
    "def H(A, B, c_A, c_B, \n",
    "      type_of_compound, miedema_coifficients_path, \n",
    "      multiplicity_A, multiplicity_B, \n",
    "      occupancy_A, occupancy_B,\n",
    "      r_A, r_B,\n",
    "      distance_AB, cnt=1, mode='L-J'\n",
    "     ):\n",
    "    N_avog = 6.02 * 10**23 \n",
    "    match mode:\n",
    "        case 'L-J': potential=L_J_potential\n",
    "        case _: raise ValueError\n",
    "    \n",
    "    U_midema, r_A, r_B = H_miedema(A, B, c_A, c_B, type_of_compound, miedema_coifficients_path) / 96.5 / cnt / occupancy_A / occupancy_B\n",
    "    \n",
    "    \n",
    "    \n",
    "    \n",
    "    enthalpy = -96.5 / 2 * N_avog * (cnt  #26 -> число атомов в ячейке\n",
    "                           * occupancy_A * occupancy_B \n",
    "                           *  U_midema *  potential(distance_AB / (r_A + r_B), 1, 1))\n",
    "    return enthalpy"
   ]
  },
  {
   "cell_type": "code",
   "execution_count": null,
   "id": "ac043104-6119-496c-a919-af795fbae13d",
   "metadata": {},
   "outputs": [],
   "source": []
  }
 ],
 "metadata": {
  "kernelspec": {
   "display_name": "myenv",
   "language": "python",
   "name": "myenv"
  },
  "language_info": {
   "codemirror_mode": {
    "name": "ipython",
    "version": 3
   },
   "file_extension": ".py",
   "mimetype": "text/x-python",
   "name": "python",
   "nbconvert_exporter": "python",
   "pygments_lexer": "ipython3",
   "version": "3.10.8"
  }
 },
 "nbformat": 4,
 "nbformat_minor": 5
}
