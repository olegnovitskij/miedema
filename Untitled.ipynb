{
 "cells": [
  {
   "cell_type": "code",
   "execution_count": 1,
   "id": "8674980c-0760-46cd-8808-f5482ce4dc20",
   "metadata": {},
   "outputs": [
    {
     "ename": "ModuleNotFoundError",
     "evalue": "No module named 'ovito'",
     "output_type": "error",
     "traceback": [
      "\u001b[0;31m---------------------------------------------------------------------------\u001b[0m",
      "\u001b[0;31mModuleNotFoundError\u001b[0m                       Traceback (most recent call last)",
      "Input \u001b[0;32mIn [1]\u001b[0m, in \u001b[0;36m<cell line: 1>\u001b[0;34m()\u001b[0m\n\u001b[0;32m----> 1\u001b[0m \u001b[38;5;28;01mimport\u001b[39;00m \u001b[38;5;21;01movito\u001b[39;00m\n\u001b[1;32m      2\u001b[0m \u001b[38;5;28mprint\u001b[39m(\u001b[38;5;124m\"\u001b[39m\u001b[38;5;124mHello, this is OVITO \u001b[39m\u001b[38;5;132;01m%i\u001b[39;00m\u001b[38;5;124m.\u001b[39m\u001b[38;5;132;01m%i\u001b[39;00m\u001b[38;5;124m.\u001b[39m\u001b[38;5;132;01m%i\u001b[39;00m\u001b[38;5;124m\"\u001b[39m \u001b[38;5;241m%\u001b[39m ovito\u001b[38;5;241m.\u001b[39mversion)\n",
      "\u001b[0;31mModuleNotFoundError\u001b[0m: No module named 'ovito'"
     ]
    }
   ],
   "source": [
    "import ovito\n",
    "print(\"Hello, this is OVITO %i.%i.%i\" % ovito.version)"
   ]
  },
  {
   "cell_type": "code",
   "execution_count": null,
   "id": "854c93ea-76d5-47c6-915b-4f79efedebb4",
   "metadata": {},
   "outputs": [],
   "source": []
  }
 ],
 "metadata": {
  "kernelspec": {
   "display_name": "Python 3 (ipykernel)",
   "language": "python",
   "name": "python3"
  },
  "language_info": {
   "codemirror_mode": {
    "name": "ipython",
    "version": 3
   },
   "file_extension": ".py",
   "mimetype": "text/x-python",
   "name": "python",
   "nbconvert_exporter": "python",
   "pygments_lexer": "ipython3",
   "version": "3.10.8"
  }
 },
 "nbformat": 4,
 "nbformat_minor": 5
}
